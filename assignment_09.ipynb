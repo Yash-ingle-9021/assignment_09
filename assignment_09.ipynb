{
 "cells": [
  {
   "cell_type": "code",
   "execution_count": 1,
   "id": "270f2317-7a40-4381-9a14-7860150dc86a",
   "metadata": {},
   "outputs": [
    {
     "name": "stdout",
     "output_type": "stream",
     "text": [
      "9th Feb :- ASSIGNMENT_09\n"
     ]
    }
   ],
   "source": [
    "print(\"9th Feb :- ASSIGNMENT_09\")"
   ]
  },
  {
   "cell_type": "code",
   "execution_count": 5,
   "id": "19c52bad-6326-47a1-8b94-80b2dafdc13f",
   "metadata": {},
   "outputs": [
    {
     "name": "stdout",
     "output_type": "stream",
     "text": [
      "Q_1_ANS :- \n"
     ]
    }
   ],
   "source": [
    "print('Q_1_ANS :- ')\n",
    "class vehicle:\n",
    "    def __init__(self, name_of_vehicle,max_speed,average_of_vehicle,vehicle_model):\n",
    "        self.name_of_vehicle = name_of_vehicle\n",
    "        self.max_speed= max_speed\n",
    "        self.average_of_vehicle=average_of_vehicle\n",
    "        self.vehicle_model=vehicle_model\n",
    "    def return_vehicle_detail(self):\n",
    "        return self.name_of_vehicle,self.max_speed,self.average_of_vehicle,self.vehicle_model"
   ]
  },
  {
   "cell_type": "code",
   "execution_count": 6,
   "id": "5a05eace-5e3e-44cc-a7f0-5f645ab8d863",
   "metadata": {},
   "outputs": [],
   "source": [
    "audi = vehicle(\"Audi\",\"600km/h\",\"8/l\",\"A0803202\")"
   ]
  },
  {
   "cell_type": "code",
   "execution_count": 8,
   "id": "4af935ae-05f0-4e8d-a911-5af3d8c1c16f",
   "metadata": {},
   "outputs": [
    {
     "data": {
      "text/plain": [
       "('Audi', '600km/h', '8/l', 'A0803202')"
      ]
     },
     "execution_count": 8,
     "metadata": {},
     "output_type": "execute_result"
    }
   ],
   "source": [
    "audi.return_vehicle_detail()"
   ]
  },
  {
   "cell_type": "code",
   "execution_count": 10,
   "id": "3939bb62-d485-4fc1-bc13-61d35291bf75",
   "metadata": {},
   "outputs": [
    {
     "data": {
      "text/plain": [
       "'Audi'"
      ]
     },
     "execution_count": 10,
     "metadata": {},
     "output_type": "execute_result"
    }
   ],
   "source": [
    "audi.name_of_vehicle"
   ]
  },
  {
   "cell_type": "code",
   "execution_count": 11,
   "id": "dfde1f1b-da29-4b05-b6cf-be4fec7206a9",
   "metadata": {},
   "outputs": [
    {
     "data": {
      "text/plain": [
       "'A0803202'"
      ]
     },
     "execution_count": 11,
     "metadata": {},
     "output_type": "execute_result"
    }
   ],
   "source": [
    "audi.vehicle_model"
   ]
  },
  {
   "cell_type": "code",
   "execution_count": 8,
   "id": "2748948e-da5a-469f-8e53-2b68e3d70a13",
   "metadata": {},
   "outputs": [
    {
     "name": "stdout",
     "output_type": "stream",
     "text": [
      "Q_2_ANS :- \n",
      "Audi\n",
      "sitting_capacity of car :-  5 sitter\n"
     ]
    }
   ],
   "source": [
    "print('Q_2_ANS :- ')\n",
    "\n",
    "    \n",
    "class vehicle:\n",
    "    def __init__(self, name_of_vehicle,max_speed,average_of_vehicle,vehicle_model):\n",
    "        self.name_of_vehicle = name_of_vehicle\n",
    "        self.max_speed= max_speed\n",
    "        self.average_of_vehicle=average_of_vehicle\n",
    "        self.vehicle_model=vehicle_model\n",
    "    def return_vehicle_detail(self):\n",
    "        return self.name_of_vehicle\n",
    "    \n",
    "class car(vehicle):\n",
    "    def __init__(self,sitting_capacity):\n",
    "        self.sitting_capacity = sitting_capacity\n",
    "    def return_sitting_capacity(self):\n",
    "        return self.sitting_capacity\n",
    "    \n",
    "\n",
    "\n",
    "audi = vehicle(\"Audi\",\"600km/h\",\"8/l\",\"A0803202\")\n",
    "print(audi.return_vehicle_detail())\n",
    "\n",
    "audi = car(5)\n",
    "print(\"sitting_capacity of car :- \",audi.return_sitting_capacity(),\"sitter\")\n"
   ]
  },
  {
   "cell_type": "code",
   "execution_count": 2,
   "id": "30b72282-ac81-4351-b489-6509edae8688",
   "metadata": {},
   "outputs": [
    {
     "name": "stdout",
     "output_type": "stream",
     "text": [
      "Q_3_ANS :- Multipal inheritance :- When a class is derived from more than one base class it is called multiple Inheritance. The derived class inherits all the features of the base case.\n",
      "EX :-\n",
      "In Class4\n",
      "In Class2\n",
      "In Class1\n",
      "In Class3\n",
      "In Class1\n"
     ]
    }
   ],
   "source": [
    "print('Q_3_ANS :- Multipal inheritance :- When a class is derived from more than one base class it is called multiple Inheritance. The derived class inherits all the features of the base case.')\n",
    "print(\"EX :-\")\n",
    "class Class1:\n",
    "    def m(self):\n",
    "        print(\"In Class1\")  \n",
    "class Class2(Class1):\n",
    "    def m(self):\n",
    "        print(\"In Class2\")\n",
    "        Class1.m(self)\n",
    "class Class3(Class1):\n",
    "    def m(self):\n",
    "        print(\"In Class3\")\n",
    "        Class1.m(self)\n",
    "class Class4(Class2 , Class3):\n",
    "    def m(self):\n",
    "        print(\"In Class4\")  \n",
    "        Class2.m(self)\n",
    "        Class3.m(self)\n",
    "obj = Class4()\n",
    "obj.m()"
   ]
  },
  {
   "cell_type": "code",
   "execution_count": 7,
   "id": "3415d6f0-3570-4ace-bb10-669857f36354",
   "metadata": {},
   "outputs": [
    {
     "name": "stdout",
     "output_type": "stream",
     "text": [
      "Q_4_ANS :- In Python, getters and setters are not the same as those in other object-oriented programming languages. Basically, the main purpose of using getters and setters in object-oriented programs is to ensure data encapsulation. Private variables in python are not actually hidden fields like in other object oriented languages. Getters and Setters in python are often used when:                                                                                           1. We use getters & setters to add validation logic around getting and setting a value.                               2. To avoid direct access of a class field i.e. private variables cannot be accessed directly or modified by external user.\n",
      "EX :-\n",
      "setter method called\n",
      "getter method called\n",
      "10\n"
     ]
    }
   ],
   "source": [
    "print('Q_4_ANS :- In Python, getters and setters are not the same as those in other object-oriented programming languages. Basically, the main purpose of using getters and setters in object-oriented programs is to ensure data encapsulation. Private variables in python are not actually hidden fields like in other object oriented languages. Getters and Setters in python are often used when:                                                                                           1. We use getters & setters to add validation logic around getting and setting a value.                               2. To avoid direct access of a class field i.e. private variables cannot be accessed directly or modified by external user.')\n",
    "print(\"EX :-\")\n",
    "\n",
    "class Class1:\n",
    "\tdef __init__(self):\n",
    "\t\tself._age = 0\n",
    "\t\n",
    "\tdef get_age(self):\n",
    "\t\tprint(\"getter method called\")\n",
    "\t\treturn self._age\n",
    "\t\n",
    "\tdef set_age(self, a):\n",
    "\t\tprint(\"setter method called\")\n",
    "\t\tself._age = a\n",
    "\n",
    "\tdef del_age(self):\n",
    "\t\tdel self._age\n",
    "\t\n",
    "\tage = property(get_age, set_age, del_age)\n",
    "\n",
    "mark = Class1()\n",
    "\n",
    "mark.age = 10\n",
    "\n",
    "print(mark.age)\n"
   ]
  },
  {
   "cell_type": "code",
   "execution_count": 11,
   "id": "cdabadaf-fc00-4cc3-bdf7-6a122ae2409e",
   "metadata": {},
   "outputs": [
    {
     "name": "stdout",
     "output_type": "stream",
     "text": [
      "Q_5_ANS :- Overriding Method :- Method overriding is an ability of any object-oriented programming language that allows a subclass or child class to provide a specific implementation of a method that is already provided by one of its super-classes or parent classes. When a method in a subclass has the same name, same parameters or signature and same return type(or sub-type) as a method in its super-class, then the method in the subclass is said to override the method in the super-class. The version of a method that is executed will be determined by the object that is used to invoke it. If an object of a parent class is used to invoke the method, then the version in the parent class will be executed, but if an object of the subclass is used to invoke the method, then the version in the child class will be executed. In other words, it is the type of the object being referred to (not the type of the reference variable) that determines which version of an overridden method will be executed. \n",
      "EX :-\n",
      "Inside Child\n",
      "Inside Parent2\n"
     ]
    }
   ],
   "source": [
    "print('Q_5_ANS :- Overriding Method :- Method overriding is an ability of any object-oriented programming language that allows a subclass or child class to provide a specific implementation of a method that is already provided by one of its super-classes or parent classes. When a method in a subclass has the same name, same parameters or signature and same return type(or sub-type) as a method in its super-class, then the method in the subclass is said to override the method in the super-class. The version of a method that is executed will be determined by the object that is used to invoke it. If an object of a parent class is used to invoke the method, then the version in the parent class will be executed, but if an object of the subclass is used to invoke the method, then the version in the child class will be executed. In other words, it is the type of the object being referred to (not the type of the reference variable) that determines which version of an overridden method will be executed. ')\n",
    "print(\"EX :-\")\n",
    "\n",
    "class Parent1():\n",
    "\t\t\n",
    "\tdef show(self):\n",
    "\t\tprint(\"Inside Parent1\")\n",
    "\t\t\n",
    "class Parent2():\n",
    "\t\t\n",
    "\tdef display(self):\n",
    "\t\tprint(\"Inside Parent2\")\n",
    "\t\t\n",
    "class Child(Parent1, Parent2):\n",
    "\t\t\n",
    "\tdef show(self):\n",
    "\t\tprint(\"Inside Child\")\n",
    "\t\n",
    "obj = Child()\n",
    "\n",
    "obj.show()\n",
    "obj.display()\n",
    "\n"
   ]
  },
  {
   "cell_type": "code",
   "execution_count": null,
   "id": "b9cdf9cb-994f-4f45-95bc-b9877d611325",
   "metadata": {},
   "outputs": [],
   "source": []
  }
 ],
 "metadata": {
  "kernelspec": {
   "display_name": "Python 3 (ipykernel)",
   "language": "python",
   "name": "python3"
  },
  "language_info": {
   "codemirror_mode": {
    "name": "ipython",
    "version": 3
   },
   "file_extension": ".py",
   "mimetype": "text/x-python",
   "name": "python",
   "nbconvert_exporter": "python",
   "pygments_lexer": "ipython3",
   "version": "3.10.6"
  }
 },
 "nbformat": 4,
 "nbformat_minor": 5
}
